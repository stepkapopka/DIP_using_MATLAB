{
  "nbformat": 4,
  "nbformat_minor": 0,
  "metadata": {
    "colab": {
      "provenance": [],
      "include_colab_link": true
    },
    "kernelspec": {
      "name": "python3",
      "display_name": "Python 3"
    },
    "language_info": {
      "name": "python"
    }
  },
  "cells": [
    {
      "cell_type": "markdown",
      "metadata": {
        "id": "view-in-github",
        "colab_type": "text"
      },
      "source": [
        "<a href=\"https://colab.research.google.com/github/stepkapopka/DIP_using_MATLAB/blob/master/00_tensorflow_fundamentals_Duysekeev.ipynb\" target=\"_parent\"><img src=\"https://colab.research.google.com/assets/colab-badge.svg\" alt=\"Open In Colab\"/></a>"
      ]
    },
    {
      "cell_type": "code",
      "source": [
        "import tensorflow as tf\n",
        "print(tf.__version__)"
      ],
      "metadata": {
        "colab": {
          "base_uri": "https://localhost:8080/"
        },
        "id": "UaThpWnhb8_Q",
        "outputId": "b4953b44-5f0e-4534-94b7-08efee5e1bdc"
      },
      "execution_count": null,
      "outputs": [
        {
          "output_type": "stream",
          "name": "stdout",
          "text": [
            "2.15.0\n"
          ]
        }
      ]
    },
    {
      "cell_type": "markdown",
      "source": [
        "1. Create a vector, scalar, matrix and tensor with values of your choosing using tf.constant().\n",
        "2. Find the shape, rank and size of the tensors you created."
      ],
      "metadata": {
        "id": "yPsl_PGibz-h"
      }
    },
    {
      "cell_type": "code",
      "source": [
        "scalar = tf.constant(12)\n",
        "scalar, scalar.ndim, scalar.shape, tf.size(scalar)"
      ],
      "metadata": {
        "colab": {
          "base_uri": "https://localhost:8080/"
        },
        "id": "Rw0IH1g4b3Yu",
        "outputId": "410d1efb-0827-4c16-f37e-0e3f76e9ce9a"
      },
      "execution_count": null,
      "outputs": [
        {
          "output_type": "execute_result",
          "data": {
            "text/plain": [
              "(<tf.Tensor: shape=(), dtype=int32, numpy=12>,\n",
              " 0,\n",
              " TensorShape([]),\n",
              " <tf.Tensor: shape=(), dtype=int32, numpy=1>)"
            ]
          },
          "metadata": {},
          "execution_count": 3
        }
      ]
    },
    {
      "cell_type": "code",
      "source": [
        "vector = tf.constant([12, 5])\n",
        "vector, vector.ndim, vector.shape, tf.size(vector)"
      ],
      "metadata": {
        "colab": {
          "base_uri": "https://localhost:8080/"
        },
        "id": "UHpLrN8bcKEE",
        "outputId": "104e3605-4080-4d64-8411-778baa32a48c"
      },
      "execution_count": null,
      "outputs": [
        {
          "output_type": "execute_result",
          "data": {
            "text/plain": [
              "(<tf.Tensor: shape=(2,), dtype=int32, numpy=array([12,  5], dtype=int32)>,\n",
              " 1,\n",
              " TensorShape([2]),\n",
              " <tf.Tensor: shape=(), dtype=int32, numpy=2>)"
            ]
          },
          "metadata": {},
          "execution_count": 7
        }
      ]
    },
    {
      "cell_type": "code",
      "source": [
        "matrix = tf.constant([[1, 12],\n",
        "                      [12, 1]])\n",
        "matrix, matrix.ndim, matrix.shape, tf.size(matrix)"
      ],
      "metadata": {
        "colab": {
          "base_uri": "https://localhost:8080/"
        },
        "id": "yd7x5ePRcOxN",
        "outputId": "4eb4251a-85f1-4e65-9362-91b10001184e"
      },
      "execution_count": null,
      "outputs": [
        {
          "output_type": "execute_result",
          "data": {
            "text/plain": [
              "(<tf.Tensor: shape=(2, 2), dtype=int32, numpy=\n",
              " array([[ 1, 12],\n",
              "        [12,  1]], dtype=int32)>,\n",
              " 2,\n",
              " TensorShape([2, 2]),\n",
              " <tf.Tensor: shape=(), dtype=int32, numpy=4>)"
            ]
          },
          "metadata": {},
          "execution_count": 8
        }
      ]
    },
    {
      "cell_type": "code",
      "source": [
        "tensor = tf.constant([[[1, 2, 3],\n",
        "                       [4, 5, 6]],\n",
        "                      [[7, 8, 9],\n",
        "                       [10, 11, 12]],\n",
        "                      [[13, 14, 15],\n",
        "                       [16, 17, 18]]])\n",
        "tensor, tensor.ndim, tensor.shape, tf.size(tensor)"
      ],
      "metadata": {
        "colab": {
          "base_uri": "https://localhost:8080/"
        },
        "id": "1Eoil8NlcT2-",
        "outputId": "dadd0fcb-6918-44ac-cf45-bd9d5ae276c9"
      },
      "execution_count": null,
      "outputs": [
        {
          "output_type": "execute_result",
          "data": {
            "text/plain": [
              "(<tf.Tensor: shape=(3, 2, 3), dtype=int32, numpy=\n",
              " array([[[ 1,  2,  3],\n",
              "         [ 4,  5,  6]],\n",
              " \n",
              "        [[ 7,  8,  9],\n",
              "         [10, 11, 12]],\n",
              " \n",
              "        [[13, 14, 15],\n",
              "         [16, 17, 18]]], dtype=int32)>,\n",
              " 3,\n",
              " TensorShape([3, 2, 3]),\n",
              " <tf.Tensor: shape=(), dtype=int32, numpy=18>)"
            ]
          },
          "metadata": {},
          "execution_count": 9
        }
      ]
    },
    {
      "cell_type": "markdown",
      "source": [
        "3. Create two tensors containing random values between 0 and 1 with shape [5, 300]."
      ],
      "metadata": {
        "id": "AToJLmvccqMD"
      }
    },
    {
      "cell_type": "code",
      "source": [
        "random_1 = tf.random.Generator.from_seed(42)\n",
        "random_1 = random_1.normal(shape=(5, 300))\n",
        "\n",
        "random_2 = tf.random.Generator.from_seed(42)\n",
        "random_2 = random_2.normal(shape=(5, 300))\n",
        "\n",
        "random_1, random_2"
      ],
      "metadata": {
        "colab": {
          "base_uri": "https://localhost:8080/"
        },
        "id": "B4qDZ7iscugP",
        "outputId": "253908b7-02bc-43e4-8bd1-e52acb92e347"
      },
      "execution_count": null,
      "outputs": [
        {
          "output_type": "execute_result",
          "data": {
            "text/plain": [
              "(<tf.Tensor: shape=(5, 300), dtype=float32, numpy=\n",
              " array([[-0.7565803 , -0.06854702,  0.07595026, ..., -1.071834  ,\n",
              "         -1.0722276 , -0.00586287],\n",
              "        [-0.88051033, -0.32426047, -2.4847078 , ...,  0.16512105,\n",
              "          1.155565  , -0.10707551],\n",
              "        [-1.5306779 , -0.86202925, -0.16359143, ...,  0.34288085,\n",
              "          1.216793  , -1.24293   ],\n",
              "        [ 0.84324265, -0.23379943,  0.4276398 , ..., -1.0428714 ,\n",
              "         -0.73970354,  0.0177109 ],\n",
              "        [ 0.04888754, -0.66408694, -1.787366  , ...,  0.1947453 ,\n",
              "          0.5656089 ,  0.18439196]], dtype=float32)>,\n",
              " <tf.Tensor: shape=(5, 300), dtype=float32, numpy=\n",
              " array([[-0.7565803 , -0.06854702,  0.07595026, ..., -1.071834  ,\n",
              "         -1.0722276 , -0.00586287],\n",
              "        [-0.88051033, -0.32426047, -2.4847078 , ...,  0.16512105,\n",
              "          1.155565  , -0.10707551],\n",
              "        [-1.5306779 , -0.86202925, -0.16359143, ...,  0.34288085,\n",
              "          1.216793  , -1.24293   ],\n",
              "        [ 0.84324265, -0.23379943,  0.4276398 , ..., -1.0428714 ,\n",
              "         -0.73970354,  0.0177109 ],\n",
              "        [ 0.04888754, -0.66408694, -1.787366  , ...,  0.1947453 ,\n",
              "          0.5656089 ,  0.18439196]], dtype=float32)>)"
            ]
          },
          "metadata": {},
          "execution_count": 10
        }
      ]
    },
    {
      "cell_type": "markdown",
      "source": [
        "4. Multiply the two tensors you created in 3 using matrix multiplication."
      ],
      "metadata": {
        "id": "g9AbBPlJdV2q"
      }
    },
    {
      "cell_type": "code",
      "source": [
        "random_1 @ tf.transpose(random_2)"
      ],
      "metadata": {
        "colab": {
          "base_uri": "https://localhost:8080/"
        },
        "id": "zMg6z8YCdYUm",
        "outputId": "43ee956b-1651-4390-832e-936c356ef30f"
      },
      "execution_count": null,
      "outputs": [
        {
          "output_type": "execute_result",
          "data": {
            "text/plain": [
              "<tf.Tensor: shape=(5, 5), dtype=float32, numpy=\n",
              "array([[272.44012  , -17.250706 , -34.88533  , -12.265072 , -22.346771 ],\n",
              "       [-17.250706 , 335.51385  ,  -3.666809 ,  -1.7807384, -18.89357  ],\n",
              "       [-34.88533  ,  -3.666809 , 333.2705   ,   4.595558 ,  -9.527701 ],\n",
              "       [-12.265072 ,  -1.7807384,   4.595558 , 317.00775  ,   4.2550097],\n",
              "       [-22.346771 , -18.89357  ,  -9.527701 ,   4.2550097, 295.76996  ]],\n",
              "      dtype=float32)>"
            ]
          },
          "metadata": {},
          "execution_count": 11
        }
      ]
    },
    {
      "cell_type": "markdown",
      "source": [
        "5. Multiply the two tensors you created in 3 using dot product."
      ],
      "metadata": {
        "id": "EpMX0Ljudccf"
      }
    },
    {
      "cell_type": "code",
      "source": [
        "tf.tensordot(random_1, tf.transpose(random_2), axes=1)"
      ],
      "metadata": {
        "colab": {
          "base_uri": "https://localhost:8080/"
        },
        "id": "Wi7rJJTcdfF5",
        "outputId": "e5582568-eb3c-45d5-9256-6b41fc8ad7e7"
      },
      "execution_count": null,
      "outputs": [
        {
          "output_type": "execute_result",
          "data": {
            "text/plain": [
              "<tf.Tensor: shape=(5, 5), dtype=float32, numpy=\n",
              "array([[272.44012  , -17.250706 , -34.88533  , -12.265072 , -22.346771 ],\n",
              "       [-17.250706 , 335.51385  ,  -3.666809 ,  -1.7807384, -18.89357  ],\n",
              "       [-34.88533  ,  -3.666809 , 333.2705   ,   4.595558 ,  -9.527701 ],\n",
              "       [-12.265072 ,  -1.7807384,   4.595558 , 317.00775  ,   4.2550097],\n",
              "       [-22.346771 , -18.89357  ,  -9.527701 ,   4.2550097, 295.76996  ]],\n",
              "      dtype=float32)>"
            ]
          },
          "metadata": {},
          "execution_count": 12
        }
      ]
    },
    {
      "cell_type": "markdown",
      "source": [
        "6. Create a tensor with random values between 0 and 1 with shape [224, 224, 3].\n",
        "7. Find the min and max values of the tensor you created in 6."
      ],
      "metadata": {
        "id": "elrqCeTCdyVh"
      }
    },
    {
      "cell_type": "code",
      "source": [
        "random_3 = tf.random.Generator.from_seed(42)\n",
        "random_3 = random_3.normal(shape=(224, 224, 3))\n",
        "tf.reduce_max(random_3), tf.reduce_min(random_3)"
      ],
      "metadata": {
        "colab": {
          "base_uri": "https://localhost:8080/"
        },
        "id": "XECcn-u5d1J7",
        "outputId": "4e5be092-2b9e-42c7-be3f-0668286664f5"
      },
      "execution_count": null,
      "outputs": [
        {
          "output_type": "execute_result",
          "data": {
            "text/plain": [
              "(<tf.Tensor: shape=(), dtype=float32, numpy=4.4032865>,\n",
              " <tf.Tensor: shape=(), dtype=float32, numpy=-4.848316>)"
            ]
          },
          "metadata": {},
          "execution_count": 13
        }
      ]
    },
    {
      "cell_type": "markdown",
      "source": [
        "8. Created a tensor with random values of shape [1, 224, 224, 3] then squeeze it to change the shape to [224, 224, 3]."
      ],
      "metadata": {
        "id": "TSrZlaNQeNZK"
      }
    },
    {
      "cell_type": "code",
      "source": [
        "random_4 = tf.random.Generator.from_seed(42)\n",
        "random_4 = random_4.normal(shape=(1, 224, 224, 3))\n",
        "random_4_squeezed = tf.squeeze(random_4)\n",
        "random_4_squeezed.shape, random_4_squeezed.ndim"
      ],
      "metadata": {
        "colab": {
          "base_uri": "https://localhost:8080/"
        },
        "id": "J_QgnufXeYYs",
        "outputId": "92739c3a-2b8b-4c42-ba94-7149b6843542"
      },
      "execution_count": null,
      "outputs": [
        {
          "output_type": "execute_result",
          "data": {
            "text/plain": [
              "(TensorShape([224, 224, 3]), 3)"
            ]
          },
          "metadata": {},
          "execution_count": 14
        }
      ]
    },
    {
      "cell_type": "markdown",
      "source": [
        "9. Create a tensor with shape [10] using your own choice of values, then find the index which has the maximum value."
      ],
      "metadata": {
        "id": "mUPDY4Y0em6k"
      }
    },
    {
      "cell_type": "code",
      "source": [
        "import numpy as np\n",
        "random_5 = tf.constant(np.random.randint(low=0, high=100, size=10))\n",
        "random_5, tf.argmax(random_5)"
      ],
      "metadata": {
        "colab": {
          "base_uri": "https://localhost:8080/"
        },
        "id": "LLUPSqa6eoak",
        "outputId": "e3eeab7b-8087-423a-f150-aa045586babb"
      },
      "execution_count": null,
      "outputs": [
        {
          "output_type": "execute_result",
          "data": {
            "text/plain": [
              "(<tf.Tensor: shape=(10,), dtype=int64, numpy=array([67, 32, 15, 17, 33, 69, 53,  9, 84, 44])>,\n",
              " <tf.Tensor: shape=(), dtype=int64, numpy=8>)"
            ]
          },
          "metadata": {},
          "execution_count": 35
        }
      ]
    },
    {
      "cell_type": "markdown",
      "source": [
        "10. One-hot encode the tensor you created in 9."
      ],
      "metadata": {
        "id": "IM6MykKLe0VR"
      }
    },
    {
      "cell_type": "code",
      "source": [
        "tf.one_hot(random_5, depth=10)"
      ],
      "metadata": {
        "colab": {
          "base_uri": "https://localhost:8080/"
        },
        "id": "EUuPCwwae3Zt",
        "outputId": "6f88c6a3-2031-468b-f736-d5487e236897"
      },
      "execution_count": null,
      "outputs": [
        {
          "output_type": "execute_result",
          "data": {
            "text/plain": [
              "<tf.Tensor: shape=(10, 10), dtype=float32, numpy=\n",
              "array([[0., 0., 0., 0., 0., 0., 0., 0., 0., 0.],\n",
              "       [0., 0., 0., 0., 0., 0., 0., 0., 0., 0.],\n",
              "       [0., 0., 0., 0., 0., 0., 0., 0., 0., 0.],\n",
              "       [0., 0., 0., 0., 0., 0., 0., 0., 0., 0.],\n",
              "       [0., 0., 0., 0., 0., 0., 0., 0., 0., 0.],\n",
              "       [0., 0., 0., 0., 0., 0., 0., 0., 0., 0.],\n",
              "       [0., 0., 0., 0., 0., 0., 0., 0., 0., 0.],\n",
              "       [0., 0., 0., 0., 0., 0., 0., 0., 0., 1.],\n",
              "       [0., 0., 0., 0., 0., 0., 0., 0., 0., 0.],\n",
              "       [0., 0., 0., 0., 0., 0., 0., 0., 0., 0.]], dtype=float32)>"
            ]
          },
          "metadata": {},
          "execution_count": 36
        }
      ]
    }
  ]
}